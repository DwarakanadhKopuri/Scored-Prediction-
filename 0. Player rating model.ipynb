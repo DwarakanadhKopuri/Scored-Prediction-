{
 "cells": [
  {
   "cell_type": "markdown",
   "metadata": {},
   "source": [
    "# Football player rating model"
   ]
  },
  {
   "cell_type": "markdown",
   "metadata": {},
   "source": [
    "- We created two models using game data in each league. Frist model we made is about player's rating. As using the model, it can predict their rating based on a single game data. Second model we created is that finding better position. The second model is based on about 2,500 players having a single position. Then, it will be used for helping other players having multi positions find their better position.\n",
    "- Parsed Website : www.whoscored.com\n",
    "- Sample data : Game data in 2015-2016 season\n",
    "   - League : Bundesliga(Germany), LaLiga(Spain), EPL(UK), Ligue1(France), SerieA(Italy), Eredivise(Netherland), RPL(Russia)\n",
    "   - Position(Class) : FW, MF, DF, GK\n",
    "   - Player : Football Players having more 270 minutes on appearance.\n",
    "    "
   ]
  },
  {
   "cell_type": "markdown",
   "metadata": {},
   "source": [
    "## 1. Crawling game data"
   ]
  },
  {
   "cell_type": "markdown",
   "metadata": {},
   "source": [
    "https://github.com/junhwanjang/whoscored/blob/master/1_Crawling%20Players'%20data.ipynb"
   ]
  },
  {
   "cell_type": "markdown",
   "metadata": {},
   "source": [
    "## 2. Player rating model\n",
    "- Comment : I think that if we have more past season data, I am sure we can get some significant insight about changes of main factors on each position and on the overall football strategy/style."
   ]
  },
  {
   "cell_type": "markdown",
   "metadata": {},
   "source": [
    "### 2-1) FW\n",
    "https://github.com/junhwanjang/whoscored/blob/master/2_Forward%20OLS%20analysis.ipynb\n",
    "\n",
    "### 2-2) MF\n",
    "https://github.com/junhwanjang/whoscored/blob/master/3_Midfielder%20OLS%20analysis.ipynb\n",
    "### 2-3) DF\n",
    "https://github.com/junhwanjang/whoscored/blob/master/4_Defender%20OLS%20analysis.ipynb\n",
    "\n",
    "### 2-4) GK\n",
    "https://github.com/junhwanjang/whoscored/blob/master/5_Goalkeeper%20OLS%20analysis.ipynb"
   ]
  },
  {
   "cell_type": "markdown",
   "metadata": {},
   "source": [
    "## 3. Position classification model\n",
    "- Train Data : Football players having single position\n",
    "- Test Data : Football players having multi positions\n",
    "- Comment : It could help players having multi positions find their better position. The model will be used for the game industry because sport itself is a kind of game.\n",
    "\n",
    "\n",
    "https://github.com/junhwanjang/DataSchool/blob/master/Project/whoscored/6_Position%20Goodness%20analysis.ipynb"
   ]
  }
 ],
 "metadata": {
  "kernelspec": {
   "display_name": "Python 2",
   "language": "python",
   "name": "python2"
  },
  "language_info": {
   "codemirror_mode": {
    "name": "ipython",
    "version": 2
   },
   "file_extension": ".py",
   "mimetype": "text/x-python",
   "name": "python",
   "nbconvert_exporter": "python",
   "pygments_lexer": "ipython2",
   "version": "2.7.11+"
  }
 },
 "nbformat": 4,
 "nbformat_minor": 0
}
